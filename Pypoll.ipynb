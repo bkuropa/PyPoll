{
 "cells": [
  {
   "cell_type": "code",
   "execution_count": 37,
   "metadata": {},
   "outputs": [
    {
     "name": "stdout",
     "output_type": "stream",
     "text": [
      "Charles Casper Stockham: received 23.05% of the vote.\n",
      "Diana DeGette: received 73.81% of the vote.\n",
      "Raymon Anthony Doane: received 3.14% of the vote.\n",
      "369711\n",
      "['Charles Casper Stockham', 'Diana DeGette', 'Raymon Anthony Doane']\n",
      "{'Charles Casper Stockham': 85213, 'Diana DeGette': 272892, 'Raymon Anthony Doane': 11606}\n",
      "Diana DeGette\n",
      "-------------------------\n",
      "Winner: Diana DeGette\n",
      "Winning Vote Count: 272,892\n",
      "Winning Percentage: 73.8%\n",
      "-------------------------\n",
      "\n"
     ]
    }
   ],
   "source": [
    "# The data we need to retrieve\n",
    "# 1. The total number of votes cast\n",
    "# 2. A complete list of candidates who received votes\n",
    "# 3. The percentage of votes each candidate won\n",
    "# 4. The total number of votes each candidate won\n",
    "# 5. The winner of the election base on popular vote\n",
    "\n",
    "# Add our dependencies.\n",
    "import csv\n",
    "import os\n",
    "# Assign a variable to load a file from a path.\n",
    "file_to_load = os.path.join(\"Resources\", \"election_results.csv\")\n",
    "# Assign a variable to save the file to a path.\n",
    "file_to_save = os.path.join(\"analysis\", \"election_analysis.txt\")\n",
    "\n",
    "# 1. Initialize a total vote counter.\n",
    "total_votes = 0\n",
    "candidate_options = []\n",
    "candidate_votes = {}\n",
    "#Winning candidate and tracker\n",
    "winning_candidate = \"\"\n",
    "winning_count = 0\n",
    "winning_percentage = 0\n",
    "\n",
    "# Open the election results and read the file\n",
    "with open(file_to_load) as election_data:\n",
    "    file_reader = csv.reader(election_data)\n",
    "\n",
    "    # Read the header row.\n",
    "    headers = next(file_reader)\n",
    "\n",
    "    # Print each row in the CSV file.\n",
    "    for row in file_reader:\n",
    "        # 2. Add to the total vote count.\n",
    "        total_votes += 1\n",
    "        \n",
    "        # Print the candidate name from each row\n",
    "        candidate_name = row[2]\n",
    "        \n",
    "        if candidate_name not in candidate_options:\n",
    "            # Candidate's name goes into the total list\n",
    "            candidate_options.append(candidate_name)\n",
    "            \n",
    "            #2. Start tracking the candidate's votes\n",
    "            candidate_votes[candidate_name] = 0\n",
    "        #3. Add a vote to the count\n",
    "        candidate_votes[candidate_name] += 1\n",
    "\n",
    "#Determine the vote percentage\n",
    "# 1. Iterate through the candidate list\n",
    "for candidate_name in candidate_votes:\n",
    "    #2. Retrieve vote count of a candidate\n",
    "    votes = candidate_votes[candidate_name]\n",
    "    #3. Calculate the percentage of votes\n",
    "    vote_percentage = float(votes) / float(total_votes) * 100\n",
    "    vote_percentage = round(vote_percentage,2)\n",
    "    \n",
    "    #4. Print the candidate name and percentage of votes.\n",
    "    print(f\"{candidate_name}: received {vote_percentage}% of the vote.\")\n",
    "        \n",
    "    #Determine the winning vote count\n",
    "    #Determine if the votes is greater than the winning count\n",
    "    if (votes > winning_count) and (vote_percentage > winning_percentage):\n",
    "        #If true, set winning_count = votes & winning_percent = vote %\n",
    "        winning_count = votes\n",
    "        winning_percentage = vote_percentage\n",
    "        #Set the winning_candate equal to the candidate's name\n",
    "        winning_candidate = candidate_name\n",
    "        \n",
    "# 3. Print the total votes, candidates.\n",
    "print(total_votes)\n",
    "print(candidate_options)\n",
    "print(candidate_votes)\n",
    "print(winning_candidate)\n",
    "winning_candidate_summary = (\n",
    "    f\"-------------------------\\n\"\n",
    "    f\"Winner: {winning_candidate}\\n\"\n",
    "    f\"Winning Vote Count: {winning_count:,}\\n\"\n",
    "    f\"Winning Percentage: {winning_percentage:.1f}%\\n\"\n",
    "    f\"-------------------------\\n\")\n",
    "print(winning_candidate_summary)"
   ]
  },
  {
   "cell_type": "code",
   "execution_count": null,
   "metadata": {},
   "outputs": [],
   "source": []
  },
  {
   "cell_type": "code",
   "execution_count": 16,
   "metadata": {},
   "outputs": [
    {
     "data": {
      "text/plain": [
       "<_io.TextIOWrapper name='Analysis\\\\election_analysis.txt' mode='w' encoding='cp1252'>"
      ]
     },
     "execution_count": 16,
     "metadata": {},
     "output_type": "execute_result"
    }
   ],
   "source": [
    "# Create a filename variable to a direct or indirect path to the file.\n",
    "\n",
    "file_to_save = os.path.join(\"Analysis\", \"election_analysis.txt\")\n",
    "#file_to_save = \"election_analysis.txt\"\n",
    "# Using the open() function with the \"w\" mode we will write data to the file.\n",
    "open(file_to_save, \"w\")"
   ]
  },
  {
   "cell_type": "code",
   "execution_count": 27,
   "metadata": {},
   "outputs": [
    {
     "ename": "TypeError",
     "evalue": "argument 1 must be an iterator",
     "output_type": "error",
     "traceback": [
      "\u001b[1;31m---------------------------------------------------------------------------\u001b[0m",
      "\u001b[1;31mTypeError\u001b[0m                                 Traceback (most recent call last)",
      "\u001b[1;32m<ipython-input-27-0724eae318e6>\u001b[0m in \u001b[0;36m<module>\u001b[1;34m\u001b[0m\n\u001b[0;32m      1\u001b[0m \u001b[1;31m# Read the file object with the reader function.\u001b[0m\u001b[1;33m\u001b[0m\u001b[1;33m\u001b[0m\u001b[1;33m\u001b[0m\u001b[0m\n\u001b[1;32m----> 2\u001b[1;33m \u001b[0mfile_reader\u001b[0m \u001b[1;33m=\u001b[0m \u001b[0mcsv\u001b[0m\u001b[1;33m.\u001b[0m\u001b[0mreader\u001b[0m\u001b[1;33m(\u001b[0m\u001b[0melection_data\u001b[0m\u001b[1;33m)\u001b[0m\u001b[1;33m\u001b[0m\u001b[1;33m\u001b[0m\u001b[0m\n\u001b[0m\u001b[0;32m      3\u001b[0m \u001b[1;31m# Print each row in the CSV file.\u001b[0m\u001b[1;33m\u001b[0m\u001b[1;33m\u001b[0m\u001b[1;33m\u001b[0m\u001b[0m\n\u001b[0;32m      4\u001b[0m \u001b[1;32mfor\u001b[0m \u001b[0mrow\u001b[0m \u001b[1;32min\u001b[0m \u001b[0mfile_reader\u001b[0m\u001b[1;33m:\u001b[0m\u001b[1;33m\u001b[0m\u001b[1;33m\u001b[0m\u001b[0m\n\u001b[0;32m      5\u001b[0m     \u001b[0mprint\u001b[0m\u001b[1;33m(\u001b[0m\u001b[0mrow\u001b[0m\u001b[1;33m)\u001b[0m\u001b[1;33m\u001b[0m\u001b[1;33m\u001b[0m\u001b[0m\n",
      "\u001b[1;31mTypeError\u001b[0m: argument 1 must be an iterator"
     ]
    }
   ],
   "source": [
    "# Read the file object with the reader function.\n",
    "file_reader = csv.reader(election_data) \n",
    "# Print each row in the CSV file.\n",
    "for row in file_reader:\n",
    "    print(row)"
   ]
  },
  {
   "cell_type": "code",
   "execution_count": 17,
   "metadata": {},
   "outputs": [],
   "source": [
    "# Use the open statement to open the file as a text file.\n",
    "outfile = open(file_to_save, \"w\")\n",
    "# Write some data to the file.\n",
    "outfile.write(\"Hello World\")\n",
    "\n",
    "# Close the file\n",
    "outfile.close()"
   ]
  },
  {
   "cell_type": "code",
   "execution_count": null,
   "metadata": {},
   "outputs": [],
   "source": []
  }
 ],
 "metadata": {
  "kernelspec": {
   "display_name": "Python 3",
   "language": "python",
   "name": "python3"
  },
  "language_info": {
   "codemirror_mode": {
    "name": "ipython",
    "version": 3
   },
   "file_extension": ".py",
   "mimetype": "text/x-python",
   "name": "python",
   "nbconvert_exporter": "python",
   "pygments_lexer": "ipython3",
   "version": "3.8.5"
  }
 },
 "nbformat": 4,
 "nbformat_minor": 4
}
